{
 "cells": [
  {
   "cell_type": "markdown",
   "metadata": {},
   "source": [
    "## Loan Prediction Project\n",
    "### Author: André Rizzo\n",
    "### May 2019\n"
   ]
  },
  {
   "cell_type": "markdown",
   "metadata": {},
   "source": [
    "### 1. Defining the problem\n",
    "The main purpose of the project is to verify if person can or cannot take a loan based on a series of previously collected informations.\n",
    "This is a typical machine learning problem, supervised learning category and classification group of algorithms."
   ]
  },
  {
   "cell_type": "code",
   "execution_count": 1,
   "metadata": {},
   "outputs": [],
   "source": [
    "import numpy as np\n",
    "import scipy.stats as stat\n",
    "import pandas as pd\n",
    "import plotly.plotly as py\n",
    "import plotly.graph_objs as go\n",
    "import seaborn as sns\n",
    "import matplotlib.pyplot as plt\n",
    "%matplotlib inline\n"
   ]
  },
  {
   "cell_type": "markdown",
   "metadata": {},
   "source": [
    "### 2. Data Collection\n",
    "A CSV file will be used for training purpose."
   ]
  },
  {
   "cell_type": "code",
   "execution_count": 2,
   "metadata": {},
   "outputs": [],
   "source": [
    "df = pd.read_csv(\"/ML/Loan_prediction/data/raw/train.csv\")  # Load dataframe from file"
   ]
  },
  {
   "cell_type": "markdown",
   "metadata": {},
   "source": [
    "### 3. Data Exploration"
   ]
  },
  {
   "cell_type": "markdown",
   "metadata": {},
   "source": [
    "### *3.1 - Variable Identification*"
   ]
  },
  {
   "cell_type": "code",
   "execution_count": 3,
   "metadata": {},
   "outputs": [
    {
     "data": {
      "text/html": [
       "<div>\n",
       "<style scoped>\n",
       "    .dataframe tbody tr th:only-of-type {\n",
       "        vertical-align: middle;\n",
       "    }\n",
       "\n",
       "    .dataframe tbody tr th {\n",
       "        vertical-align: top;\n",
       "    }\n",
       "\n",
       "    .dataframe thead th {\n",
       "        text-align: right;\n",
       "    }\n",
       "</style>\n",
       "<table border=\"1\" class=\"dataframe\">\n",
       "  <thead>\n",
       "    <tr style=\"text-align: right;\">\n",
       "      <th></th>\n",
       "      <th>Loan_ID</th>\n",
       "      <th>Gender</th>\n",
       "      <th>Married</th>\n",
       "      <th>Dependents</th>\n",
       "      <th>Education</th>\n",
       "      <th>Self_Employed</th>\n",
       "      <th>ApplicantIncome</th>\n",
       "      <th>CoapplicantIncome</th>\n",
       "      <th>LoanAmount</th>\n",
       "      <th>Loan_Amount_Term</th>\n",
       "      <th>Credit_History</th>\n",
       "      <th>Property_Area</th>\n",
       "      <th>Loan_Status</th>\n",
       "    </tr>\n",
       "  </thead>\n",
       "  <tbody>\n",
       "    <tr>\n",
       "      <th>0</th>\n",
       "      <td>LP001002</td>\n",
       "      <td>Male</td>\n",
       "      <td>No</td>\n",
       "      <td>0</td>\n",
       "      <td>Graduate</td>\n",
       "      <td>No</td>\n",
       "      <td>5849</td>\n",
       "      <td>0.0</td>\n",
       "      <td>NaN</td>\n",
       "      <td>360.0</td>\n",
       "      <td>1.0</td>\n",
       "      <td>Urban</td>\n",
       "      <td>Y</td>\n",
       "    </tr>\n",
       "    <tr>\n",
       "      <th>1</th>\n",
       "      <td>LP001003</td>\n",
       "      <td>Male</td>\n",
       "      <td>Yes</td>\n",
       "      <td>1</td>\n",
       "      <td>Graduate</td>\n",
       "      <td>No</td>\n",
       "      <td>4583</td>\n",
       "      <td>1508.0</td>\n",
       "      <td>128.0</td>\n",
       "      <td>360.0</td>\n",
       "      <td>1.0</td>\n",
       "      <td>Rural</td>\n",
       "      <td>N</td>\n",
       "    </tr>\n",
       "    <tr>\n",
       "      <th>2</th>\n",
       "      <td>LP001005</td>\n",
       "      <td>Male</td>\n",
       "      <td>Yes</td>\n",
       "      <td>0</td>\n",
       "      <td>Graduate</td>\n",
       "      <td>Yes</td>\n",
       "      <td>3000</td>\n",
       "      <td>0.0</td>\n",
       "      <td>66.0</td>\n",
       "      <td>360.0</td>\n",
       "      <td>1.0</td>\n",
       "      <td>Urban</td>\n",
       "      <td>Y</td>\n",
       "    </tr>\n",
       "    <tr>\n",
       "      <th>3</th>\n",
       "      <td>LP001006</td>\n",
       "      <td>Male</td>\n",
       "      <td>Yes</td>\n",
       "      <td>0</td>\n",
       "      <td>Not Graduate</td>\n",
       "      <td>No</td>\n",
       "      <td>2583</td>\n",
       "      <td>2358.0</td>\n",
       "      <td>120.0</td>\n",
       "      <td>360.0</td>\n",
       "      <td>1.0</td>\n",
       "      <td>Urban</td>\n",
       "      <td>Y</td>\n",
       "    </tr>\n",
       "    <tr>\n",
       "      <th>4</th>\n",
       "      <td>LP001008</td>\n",
       "      <td>Male</td>\n",
       "      <td>No</td>\n",
       "      <td>0</td>\n",
       "      <td>Graduate</td>\n",
       "      <td>No</td>\n",
       "      <td>6000</td>\n",
       "      <td>0.0</td>\n",
       "      <td>141.0</td>\n",
       "      <td>360.0</td>\n",
       "      <td>1.0</td>\n",
       "      <td>Urban</td>\n",
       "      <td>Y</td>\n",
       "    </tr>\n",
       "    <tr>\n",
       "      <th>5</th>\n",
       "      <td>LP001011</td>\n",
       "      <td>Male</td>\n",
       "      <td>Yes</td>\n",
       "      <td>2</td>\n",
       "      <td>Graduate</td>\n",
       "      <td>Yes</td>\n",
       "      <td>5417</td>\n",
       "      <td>4196.0</td>\n",
       "      <td>267.0</td>\n",
       "      <td>360.0</td>\n",
       "      <td>1.0</td>\n",
       "      <td>Urban</td>\n",
       "      <td>Y</td>\n",
       "    </tr>\n",
       "    <tr>\n",
       "      <th>6</th>\n",
       "      <td>LP001013</td>\n",
       "      <td>Male</td>\n",
       "      <td>Yes</td>\n",
       "      <td>0</td>\n",
       "      <td>Not Graduate</td>\n",
       "      <td>No</td>\n",
       "      <td>2333</td>\n",
       "      <td>1516.0</td>\n",
       "      <td>95.0</td>\n",
       "      <td>360.0</td>\n",
       "      <td>1.0</td>\n",
       "      <td>Urban</td>\n",
       "      <td>Y</td>\n",
       "    </tr>\n",
       "    <tr>\n",
       "      <th>7</th>\n",
       "      <td>LP001014</td>\n",
       "      <td>Male</td>\n",
       "      <td>Yes</td>\n",
       "      <td>3+</td>\n",
       "      <td>Graduate</td>\n",
       "      <td>No</td>\n",
       "      <td>3036</td>\n",
       "      <td>2504.0</td>\n",
       "      <td>158.0</td>\n",
       "      <td>360.0</td>\n",
       "      <td>0.0</td>\n",
       "      <td>Semiurban</td>\n",
       "      <td>N</td>\n",
       "    </tr>\n",
       "    <tr>\n",
       "      <th>8</th>\n",
       "      <td>LP001018</td>\n",
       "      <td>Male</td>\n",
       "      <td>Yes</td>\n",
       "      <td>2</td>\n",
       "      <td>Graduate</td>\n",
       "      <td>No</td>\n",
       "      <td>4006</td>\n",
       "      <td>1526.0</td>\n",
       "      <td>168.0</td>\n",
       "      <td>360.0</td>\n",
       "      <td>1.0</td>\n",
       "      <td>Urban</td>\n",
       "      <td>Y</td>\n",
       "    </tr>\n",
       "    <tr>\n",
       "      <th>9</th>\n",
       "      <td>LP001020</td>\n",
       "      <td>Male</td>\n",
       "      <td>Yes</td>\n",
       "      <td>1</td>\n",
       "      <td>Graduate</td>\n",
       "      <td>No</td>\n",
       "      <td>12841</td>\n",
       "      <td>10968.0</td>\n",
       "      <td>349.0</td>\n",
       "      <td>360.0</td>\n",
       "      <td>1.0</td>\n",
       "      <td>Semiurban</td>\n",
       "      <td>N</td>\n",
       "    </tr>\n",
       "  </tbody>\n",
       "</table>\n",
       "</div>"
      ],
      "text/plain": [
       "    Loan_ID Gender Married Dependents     Education Self_Employed  \\\n",
       "0  LP001002   Male      No          0      Graduate            No   \n",
       "1  LP001003   Male     Yes          1      Graduate            No   \n",
       "2  LP001005   Male     Yes          0      Graduate           Yes   \n",
       "3  LP001006   Male     Yes          0  Not Graduate            No   \n",
       "4  LP001008   Male      No          0      Graduate            No   \n",
       "5  LP001011   Male     Yes          2      Graduate           Yes   \n",
       "6  LP001013   Male     Yes          0  Not Graduate            No   \n",
       "7  LP001014   Male     Yes         3+      Graduate            No   \n",
       "8  LP001018   Male     Yes          2      Graduate            No   \n",
       "9  LP001020   Male     Yes          1      Graduate            No   \n",
       "\n",
       "   ApplicantIncome  CoapplicantIncome  LoanAmount  Loan_Amount_Term  \\\n",
       "0             5849                0.0         NaN             360.0   \n",
       "1             4583             1508.0       128.0             360.0   \n",
       "2             3000                0.0        66.0             360.0   \n",
       "3             2583             2358.0       120.0             360.0   \n",
       "4             6000                0.0       141.0             360.0   \n",
       "5             5417             4196.0       267.0             360.0   \n",
       "6             2333             1516.0        95.0             360.0   \n",
       "7             3036             2504.0       158.0             360.0   \n",
       "8             4006             1526.0       168.0             360.0   \n",
       "9            12841            10968.0       349.0             360.0   \n",
       "\n",
       "   Credit_History Property_Area Loan_Status  \n",
       "0             1.0         Urban           Y  \n",
       "1             1.0         Rural           N  \n",
       "2             1.0         Urban           Y  \n",
       "3             1.0         Urban           Y  \n",
       "4             1.0         Urban           Y  \n",
       "5             1.0         Urban           Y  \n",
       "6             1.0         Urban           Y  \n",
       "7             0.0     Semiurban           N  \n",
       "8             1.0         Urban           Y  \n",
       "9             1.0     Semiurban           N  "
      ]
     },
     "execution_count": 3,
     "metadata": {},
     "output_type": "execute_result"
    }
   ],
   "source": [
    "df.head(10) # Show the first ten rows from dataframe."
   ]
  },
  {
   "cell_type": "code",
   "execution_count": 4,
   "metadata": {},
   "outputs": [
    {
     "data": {
      "text/html": [
       "<div>\n",
       "<style scoped>\n",
       "    .dataframe tbody tr th:only-of-type {\n",
       "        vertical-align: middle;\n",
       "    }\n",
       "\n",
       "    .dataframe tbody tr th {\n",
       "        vertical-align: top;\n",
       "    }\n",
       "\n",
       "    .dataframe thead th {\n",
       "        text-align: right;\n",
       "    }\n",
       "</style>\n",
       "<table border=\"1\" class=\"dataframe\">\n",
       "  <thead>\n",
       "    <tr style=\"text-align: right;\">\n",
       "      <th></th>\n",
       "      <th>Loan_ID</th>\n",
       "      <th>Gender</th>\n",
       "      <th>Married</th>\n",
       "      <th>Dependents</th>\n",
       "      <th>Education</th>\n",
       "      <th>Self_Employed</th>\n",
       "      <th>ApplicantIncome</th>\n",
       "      <th>CoapplicantIncome</th>\n",
       "      <th>LoanAmount</th>\n",
       "      <th>Loan_Amount_Term</th>\n",
       "      <th>Credit_History</th>\n",
       "      <th>Property_Area</th>\n",
       "      <th>Loan_Status</th>\n",
       "    </tr>\n",
       "  </thead>\n",
       "  <tbody>\n",
       "    <tr>\n",
       "      <th>604</th>\n",
       "      <td>LP002959</td>\n",
       "      <td>Female</td>\n",
       "      <td>Yes</td>\n",
       "      <td>1</td>\n",
       "      <td>Graduate</td>\n",
       "      <td>No</td>\n",
       "      <td>12000</td>\n",
       "      <td>0.0</td>\n",
       "      <td>496.0</td>\n",
       "      <td>360.0</td>\n",
       "      <td>1.0</td>\n",
       "      <td>Semiurban</td>\n",
       "      <td>Y</td>\n",
       "    </tr>\n",
       "    <tr>\n",
       "      <th>605</th>\n",
       "      <td>LP002960</td>\n",
       "      <td>Male</td>\n",
       "      <td>Yes</td>\n",
       "      <td>0</td>\n",
       "      <td>Not Graduate</td>\n",
       "      <td>No</td>\n",
       "      <td>2400</td>\n",
       "      <td>3800.0</td>\n",
       "      <td>NaN</td>\n",
       "      <td>180.0</td>\n",
       "      <td>1.0</td>\n",
       "      <td>Urban</td>\n",
       "      <td>N</td>\n",
       "    </tr>\n",
       "    <tr>\n",
       "      <th>606</th>\n",
       "      <td>LP002961</td>\n",
       "      <td>Male</td>\n",
       "      <td>Yes</td>\n",
       "      <td>1</td>\n",
       "      <td>Graduate</td>\n",
       "      <td>No</td>\n",
       "      <td>3400</td>\n",
       "      <td>2500.0</td>\n",
       "      <td>173.0</td>\n",
       "      <td>360.0</td>\n",
       "      <td>1.0</td>\n",
       "      <td>Semiurban</td>\n",
       "      <td>Y</td>\n",
       "    </tr>\n",
       "    <tr>\n",
       "      <th>607</th>\n",
       "      <td>LP002964</td>\n",
       "      <td>Male</td>\n",
       "      <td>Yes</td>\n",
       "      <td>2</td>\n",
       "      <td>Not Graduate</td>\n",
       "      <td>No</td>\n",
       "      <td>3987</td>\n",
       "      <td>1411.0</td>\n",
       "      <td>157.0</td>\n",
       "      <td>360.0</td>\n",
       "      <td>1.0</td>\n",
       "      <td>Rural</td>\n",
       "      <td>Y</td>\n",
       "    </tr>\n",
       "    <tr>\n",
       "      <th>608</th>\n",
       "      <td>LP002974</td>\n",
       "      <td>Male</td>\n",
       "      <td>Yes</td>\n",
       "      <td>0</td>\n",
       "      <td>Graduate</td>\n",
       "      <td>No</td>\n",
       "      <td>3232</td>\n",
       "      <td>1950.0</td>\n",
       "      <td>108.0</td>\n",
       "      <td>360.0</td>\n",
       "      <td>1.0</td>\n",
       "      <td>Rural</td>\n",
       "      <td>Y</td>\n",
       "    </tr>\n",
       "    <tr>\n",
       "      <th>609</th>\n",
       "      <td>LP002978</td>\n",
       "      <td>Female</td>\n",
       "      <td>No</td>\n",
       "      <td>0</td>\n",
       "      <td>Graduate</td>\n",
       "      <td>No</td>\n",
       "      <td>2900</td>\n",
       "      <td>0.0</td>\n",
       "      <td>71.0</td>\n",
       "      <td>360.0</td>\n",
       "      <td>1.0</td>\n",
       "      <td>Rural</td>\n",
       "      <td>Y</td>\n",
       "    </tr>\n",
       "    <tr>\n",
       "      <th>610</th>\n",
       "      <td>LP002979</td>\n",
       "      <td>Male</td>\n",
       "      <td>Yes</td>\n",
       "      <td>3+</td>\n",
       "      <td>Graduate</td>\n",
       "      <td>No</td>\n",
       "      <td>4106</td>\n",
       "      <td>0.0</td>\n",
       "      <td>40.0</td>\n",
       "      <td>180.0</td>\n",
       "      <td>1.0</td>\n",
       "      <td>Rural</td>\n",
       "      <td>Y</td>\n",
       "    </tr>\n",
       "    <tr>\n",
       "      <th>611</th>\n",
       "      <td>LP002983</td>\n",
       "      <td>Male</td>\n",
       "      <td>Yes</td>\n",
       "      <td>1</td>\n",
       "      <td>Graduate</td>\n",
       "      <td>No</td>\n",
       "      <td>8072</td>\n",
       "      <td>240.0</td>\n",
       "      <td>253.0</td>\n",
       "      <td>360.0</td>\n",
       "      <td>1.0</td>\n",
       "      <td>Urban</td>\n",
       "      <td>Y</td>\n",
       "    </tr>\n",
       "    <tr>\n",
       "      <th>612</th>\n",
       "      <td>LP002984</td>\n",
       "      <td>Male</td>\n",
       "      <td>Yes</td>\n",
       "      <td>2</td>\n",
       "      <td>Graduate</td>\n",
       "      <td>No</td>\n",
       "      <td>7583</td>\n",
       "      <td>0.0</td>\n",
       "      <td>187.0</td>\n",
       "      <td>360.0</td>\n",
       "      <td>1.0</td>\n",
       "      <td>Urban</td>\n",
       "      <td>Y</td>\n",
       "    </tr>\n",
       "    <tr>\n",
       "      <th>613</th>\n",
       "      <td>LP002990</td>\n",
       "      <td>Female</td>\n",
       "      <td>No</td>\n",
       "      <td>0</td>\n",
       "      <td>Graduate</td>\n",
       "      <td>Yes</td>\n",
       "      <td>4583</td>\n",
       "      <td>0.0</td>\n",
       "      <td>133.0</td>\n",
       "      <td>360.0</td>\n",
       "      <td>0.0</td>\n",
       "      <td>Semiurban</td>\n",
       "      <td>N</td>\n",
       "    </tr>\n",
       "  </tbody>\n",
       "</table>\n",
       "</div>"
      ],
      "text/plain": [
       "      Loan_ID  Gender Married Dependents     Education Self_Employed  \\\n",
       "604  LP002959  Female     Yes          1      Graduate            No   \n",
       "605  LP002960    Male     Yes          0  Not Graduate            No   \n",
       "606  LP002961    Male     Yes          1      Graduate            No   \n",
       "607  LP002964    Male     Yes          2  Not Graduate            No   \n",
       "608  LP002974    Male     Yes          0      Graduate            No   \n",
       "609  LP002978  Female      No          0      Graduate            No   \n",
       "610  LP002979    Male     Yes         3+      Graduate            No   \n",
       "611  LP002983    Male     Yes          1      Graduate            No   \n",
       "612  LP002984    Male     Yes          2      Graduate            No   \n",
       "613  LP002990  Female      No          0      Graduate           Yes   \n",
       "\n",
       "     ApplicantIncome  CoapplicantIncome  LoanAmount  Loan_Amount_Term  \\\n",
       "604            12000                0.0       496.0             360.0   \n",
       "605             2400             3800.0         NaN             180.0   \n",
       "606             3400             2500.0       173.0             360.0   \n",
       "607             3987             1411.0       157.0             360.0   \n",
       "608             3232             1950.0       108.0             360.0   \n",
       "609             2900                0.0        71.0             360.0   \n",
       "610             4106                0.0        40.0             180.0   \n",
       "611             8072              240.0       253.0             360.0   \n",
       "612             7583                0.0       187.0             360.0   \n",
       "613             4583                0.0       133.0             360.0   \n",
       "\n",
       "     Credit_History Property_Area Loan_Status  \n",
       "604             1.0     Semiurban           Y  \n",
       "605             1.0         Urban           N  \n",
       "606             1.0     Semiurban           Y  \n",
       "607             1.0         Rural           Y  \n",
       "608             1.0         Rural           Y  \n",
       "609             1.0         Rural           Y  \n",
       "610             1.0         Rural           Y  \n",
       "611             1.0         Urban           Y  \n",
       "612             1.0         Urban           Y  \n",
       "613             0.0     Semiurban           N  "
      ]
     },
     "execution_count": 4,
     "metadata": {},
     "output_type": "execute_result"
    }
   ],
   "source": [
    "df.tail(10) # Show the last ten rows from dataframe."
   ]
  },
  {
   "cell_type": "code",
   "execution_count": 5,
   "metadata": {},
   "outputs": [
    {
     "name": "stdout",
     "output_type": "stream",
     "text": [
      "<class 'pandas.core.frame.DataFrame'>\n",
      "RangeIndex: 614 entries, 0 to 613\n",
      "Data columns (total 13 columns):\n",
      "Loan_ID              614 non-null object\n",
      "Gender               601 non-null object\n",
      "Married              611 non-null object\n",
      "Dependents           599 non-null object\n",
      "Education            614 non-null object\n",
      "Self_Employed        582 non-null object\n",
      "ApplicantIncome      614 non-null int64\n",
      "CoapplicantIncome    614 non-null float64\n",
      "LoanAmount           592 non-null float64\n",
      "Loan_Amount_Term     600 non-null float64\n",
      "Credit_History       564 non-null float64\n",
      "Property_Area        614 non-null object\n",
      "Loan_Status          614 non-null object\n",
      "dtypes: float64(4), int64(1), object(8)\n",
      "memory usage: 321.1 KB\n"
     ]
    }
   ],
   "source": [
    "df.info(memory_usage='deep')"
   ]
  },
  {
   "cell_type": "markdown",
   "metadata": {},
   "source": [
    "#### *Predictive Features*\n",
    "- **Loan_ID :** Unique Loan ID\n",
    "    - *Categorical feature*\n",
    "- **Gender :**  Male/Female\n",
    "    - *Categorical feature*\n",
    "- **Married :** Applicant married (Y/N)\n",
    "    - *Categorical feature*\n",
    "- **Dependents :** Number of dependents\n",
    "    - *Categorical feature*\n",
    "- **Education :** Applicant Education (Graduate/Under Graduate)\n",
    "    - *Categorical feature*\n",
    "- **Self_Employed :** Self employed (Y/N)\n",
    "    - *Categorical feature*\n",
    "- **ApplicantIncome :** Applicant income\n",
    "    - *Numerical / Continuous feature*\n",
    "- **CoapplicantIncome :** Coapplicant income\n",
    "    - *Numerical / Continuous feature*\n",
    "- **LoanAmount :** Loan amount in thousands\n",
    "    - *Numerical / Continuous feature*\n",
    "- **Loan_Amount_Term :** Term of loan in months\n",
    "    - *Numerical / Discrete feature*\n",
    "- **Credit_History :** Credit history meets guidelines\n",
    "    - *Numerical / Discrete feature*\n",
    "- **Property_Area :** Urban/Semi Urban/Rural\n",
    "    - *Categorical feature*"
   ]
  },
  {
   "cell_type": "markdown",
   "metadata": {},
   "source": [
    "#### *Response Feature*\n",
    "- **Loan_Status :** Loan approved (Y/N)\n",
    "    - *Categorical feature*"
   ]
  },
  {
   "cell_type": "markdown",
   "metadata": {},
   "source": [
    "### *3.2 - Preliminary Missing Values Treatment*"
   ]
  },
  {
   "cell_type": "markdown",
   "metadata": {},
   "source": [
    "#### *3.2.1 - Detection*"
   ]
  },
  {
   "cell_type": "code",
   "execution_count": 6,
   "metadata": {},
   "outputs": [
    {
     "name": "stdout",
     "output_type": "stream",
     "text": [
      "Missing Values Proportions\n",
      "Loan_ID              0.000000\n",
      "Gender               0.021173\n",
      "Married              0.004886\n",
      "Dependents           0.024430\n",
      "Education            0.000000\n",
      "Self_Employed        0.052117\n",
      "ApplicantIncome      0.000000\n",
      "CoapplicantIncome    0.000000\n",
      "LoanAmount           0.035831\n",
      "Loan_Amount_Term     0.022801\n",
      "Credit_History       0.081433\n",
      "Property_Area        0.000000\n",
      "Loan_Status          0.000000\n",
      "dtype: float64\n"
     ]
    }
   ],
   "source": [
    "mv = df.isnull().sum()/614\n",
    "print(\"Missing Values Proportions\")\n",
    "print(mv)"
   ]
  },
  {
   "cell_type": "markdown",
   "metadata": {},
   "source": [
    "Observation:\n",
    "Almost all features have missing values. At this stage MVs will be removed in order to make univariate and bivariate analysis. On the following steps missing values will be treated with more details."
   ]
  },
  {
   "cell_type": "markdown",
   "metadata": {},
   "source": [
    "#### *3.2.2 - Mitigation*"
   ]
  },
  {
   "cell_type": "code",
   "execution_count": 7,
   "metadata": {},
   "outputs": [
    {
     "data": {
      "text/plain": [
       "Loan_ID              0.0\n",
       "Gender               0.0\n",
       "Married              0.0\n",
       "Dependents           0.0\n",
       "Education            0.0\n",
       "Self_Employed        0.0\n",
       "ApplicantIncome      0.0\n",
       "CoapplicantIncome    0.0\n",
       "LoanAmount           0.0\n",
       "Loan_Amount_Term     0.0\n",
       "Credit_History       0.0\n",
       "Property_Area        0.0\n",
       "Loan_Status          0.0\n",
       "dtype: float64"
      ]
     },
     "execution_count": 7,
     "metadata": {},
     "output_type": "execute_result"
    }
   ],
   "source": [
    "df_without_NA = df.dropna()\n",
    "df_without_NA.isnull().sum()/len(df_without_NA)"
   ]
  },
  {
   "cell_type": "markdown",
   "metadata": {},
   "source": [
    "Observation: As we can see, all NaN were removed."
   ]
  },
  {
   "cell_type": "markdown",
   "metadata": {},
   "source": [
    "### *3.3 - Univariate Analysis*"
   ]
  },
  {
   "cell_type": "markdown",
   "metadata": {},
   "source": [
    "### *3.3.1 - Numerical features (Continuous)*"
   ]
  },
  {
   "cell_type": "code",
   "execution_count": 8,
   "metadata": {},
   "outputs": [
    {
     "name": "stdout",
     "output_type": "stream",
     "text": [
      "=============================\n",
      "ApplicantIncome Feature\n",
      "=============================\n",
      "\n",
      "Position Measures\n",
      "-----------------------\n",
      "Mean : 5364.23\n",
      "Median : 3859.00\n",
      "Minimum : 150.00\n",
      "Maximum : 81000.00\n",
      "\n",
      "Dispersion Measures\n",
      "-----------------------\n",
      "Range : 80850.00\n",
      "25th quantile: 2898.75\n",
      "75th quantile: 5852.50\n",
      "IQR : 2953.75\n",
      "Variance : 32062136.67\n",
      "Standard dev : 5662.34\n",
      "-----------------------\n",
      "Skewness : 6.8954\n",
      "Kurtosis : 73.2814\n",
      "\n",
      "\n",
      "\n",
      "=============================\n",
      "CoapplicantIncome Feature\n",
      "=============================\n",
      "\n",
      "Position Measures\n",
      "-----------------------\n",
      "Mean : 1581.09\n",
      "Median : 1084.50\n",
      "Minimum : 0.00\n",
      "Maximum : 33837.00\n",
      "\n",
      "Dispersion Measures\n",
      "-----------------------\n",
      "Range : 33837.00\n",
      "25th quantile: 0.00\n",
      "75th quantile: 2253.25\n",
      "IQR : 2253.25\n",
      "Variance : 6838037.15\n",
      "Standard dev : 2614.96\n",
      "-----------------------\n",
      "Skewness : 5.8632\n",
      "Kurtosis : 57.0467\n",
      "\n",
      "\n",
      "\n",
      "=============================\n",
      "LoanAmount Feature\n",
      "=============================\n",
      "\n",
      "Position Measures\n",
      "-----------------------\n",
      "Mean : 144.74\n",
      "Median : 128.00\n",
      "Minimum : 9.00\n",
      "Maximum : 600.00\n",
      "\n",
      "Dispersion Measures\n",
      "-----------------------\n",
      "Range : 591.00\n",
      "25th quantile: 100.00\n",
      "75th quantile: 170.00\n",
      "IQR : 70.00\n",
      "Variance : 6468.06\n",
      "Standard dev : 80.42\n",
      "-----------------------\n",
      "Skewness : 2.3541\n",
      "Kurtosis : 8.4019\n",
      "\n",
      "\n",
      "\n"
     ]
    },
    {
     "data": {
      "image/png": "[encoded data removed]",
      "text/plain": [
       "<Figure size 432x288 with 1 Axes>"
      ]
     },
     "metadata": {
      "needs_background": "light"
     },
     "output_type": "display_data"
    },
    {
     "data": {
      "image/png": "[encoded data removed]",
      "text/plain": [
       "<Figure size 432x288 with 1 Axes>"
      ]
     },
     "metadata": {
      "needs_background": "light"
     },
     "output_type": "display_data"
    },
    {
     "data": {
      "image/png": "[encoded data removed]",
      "text/plain": [
       "<Figure size 432x288 with 1 Axes>"
      ]
     },
     "metadata": {
      "needs_background": "light"
     },
     "output_type": "display_data"
    }
   ],
   "source": [
    "continuous_features = [\"ApplicantIncome\", \"CoapplicantIncome\", \"LoanAmount\"]\n",
    "for var in continuous_features:\n",
    "    print(\"=============================\")\n",
    "    print(var,\"Feature\")\n",
    "    print(\"=============================\")\n",
    "    print(\"\")\n",
    "    print(\"Position Measures\")\n",
    "    print(\"-----------------------\")\n",
    "    print(\"Mean : %.2f\" % df_without_NA[var].mean())\n",
    "    print(\"Median : %.2f\" % df_without_NA[var].median())\n",
    "    print(\"Minimum : %.2f\" % df_without_NA[var].min())\n",
    "    print(\"Maximum : %.2f\" % df_without_NA[var].max())\n",
    "    print(\"\")\n",
    "    print(\"Dispersion Measures\")\n",
    "    print(\"-----------------------\")\n",
    "    print(\"Range : %.2f\" % (df_without_NA[var].max() - df_without_NA[var].min()))\n",
    "    print(\"25th quantile: %.2f\" % np.quantile(df_without_NA[var],0.25))\n",
    "    print(\"75th quantile: %.2f\" % np.quantile(df_without_NA[var],0.75))\n",
    "    print(\"IQR : %.2f\" % stat.iqr(df_without_NA[var]))\n",
    "    print(\"Variance : %.2f\" % np.var(df_without_NA[var]))\n",
    "    print(\"Standard dev : %.2f\" % np.std(df_without_NA[var]))\n",
    "    print(\"-----------------------\")\n",
    "    print(\"Skewness : %.4f\" % stat.skew(df_without_NA[var]))\n",
    "    print(\"Kurtosis : %.4f\" % stat.kurtosis(df_without_NA[var]))\n",
    "    print(\"\")\n",
    "    plt.figure()\n",
    "    sns.distplot(df_without_NA[var])\n",
    "    #sns.boxplot(df[var])\n",
    "    title = plt.gca()\n",
    "    title.set_title(var + \" Feature\")\n",
    "    print(\"\")\n",
    "    print(\"\")\n",
    " \n",
    "    "
   ]
  },
  {
   "cell_type": "markdown",
   "metadata": {},
   "source": [
    "### *3.3.2 - Numerical features (Discrete)*"
   ]
  },
  {
   "cell_type": "code",
   "execution_count": 9,
   "metadata": {},
   "outputs": [
    {
     "name": "stdout",
     "output_type": "stream",
     "text": [
      "=============================\n",
      "Loan_Amount_Term Feature\n",
      "=============================\n",
      "\n",
      "Position Measures\n",
      "-----------------------\n",
      "Mean : 342.05\n",
      "Median : 360.00\n",
      "Minimum : 36.00\n",
      "Maximum : 480.00\n",
      "\n",
      "Dispersion Measures\n",
      "-----------------------\n",
      "Range : 444.00\n",
      "Variance : 4243.80\n",
      "Standard dev : 65.14\n",
      "-----------------------\n",
      "\n",
      "Absolute Frequency Table\n",
      "------------------------\n",
      "col_0             count\n",
      "Loan_Amount_Term       \n",
      "36.0                  2\n",
      "60.0                  2\n",
      "84.0                  3\n",
      "120.0                 3\n",
      "180.0                36\n",
      "240.0                 2\n",
      "300.0                 9\n",
      "360.0               411\n",
      "480.0                12\n",
      "\n",
      "Relative Frequency Table\n",
      "---------------------------\n",
      "col_0                count\n",
      "Loan_Amount_Term          \n",
      "36.0              0.004167\n",
      "60.0              0.004167\n",
      "84.0              0.006250\n",
      "120.0             0.006250\n",
      "180.0             0.075000\n",
      "240.0             0.004167\n",
      "300.0             0.018750\n",
      "360.0             0.856250\n",
      "480.0             0.025000\n",
      "\n",
      "\n"
     ]
    },
    {
     "data": {
      "text/plain": [
       "<Figure size 432x288 with 0 Axes>"
      ]
     },
     "metadata": {},
     "output_type": "display_data"
    },
    {
     "data": {
      "image/png": "[encoded data removed]",
      "text/plain": [
       "<Figure size 360x360 with 1 Axes>"
      ]
     },
     "metadata": {
      "needs_background": "light"
     },
     "output_type": "display_data"
    }
   ],
   "source": [
    "discrete_features = [\"Loan_Amount_Term\"]\n",
    "for var in discrete_features:\n",
    "    print(\"=============================\")\n",
    "    print(var,\"Feature\")\n",
    "    print(\"=============================\")\n",
    "    print(\"\")\n",
    "    print(\"Position Measures\")\n",
    "    print(\"-----------------------\")\n",
    "    print(\"Mean : %.2f\" % df_without_NA[var].mean())\n",
    "    print(\"Median : %.2f\" % df_without_NA[var].median())\n",
    "    print(\"Minimum : %.2f\" % df_without_NA[var].min())\n",
    "    print(\"Maximum : %.2f\" % df_without_NA[var].max())\n",
    "    print(\"\")\n",
    "    print(\"Dispersion Measures\")\n",
    "    print(\"-----------------------\")\n",
    "    print(\"Range : %.2f\" % (df_without_NA[var].max() - df_without_NA[var].min()))\n",
    "    print(\"Variance : %.2f\" % np.var(df_without_NA[var]))\n",
    "    print(\"Standard dev : %.2f\" % np.std(df_without_NA[var]))\n",
    "    print(\"-----------------------\")\n",
    "    #print(\"Skewness : %.4f\" % stat.skew(df_without_NA[var]))\n",
    "    #print(\"Kurtosis : %.4f\" % stat.kurtosis(df_without_NA[var]))\n",
    "    print(\"\")\n",
    "    print(\"Absolute Frequency Table\")\n",
    "    print(\"------------------------\")\n",
    "    my_table = pd.crosstab(index=df_without_NA[var], columns=\"count\", margins=False)\n",
    "    print(my_table)\n",
    "    print(\"\")\n",
    "    print(\"Relative Frequency Table\")\n",
    "    print(\"---------------------------\")\n",
    "    my_table_prop = my_table/my_table.sum()\n",
    "    print(my_table_prop)\n",
    "    plt.figure()\n",
    "    sns.catplot(x=var, kind=\"count\", data=df_without_NA)\n",
    "    title = plt.gca()\n",
    "    title.set_title(var + \" Feature\")\n",
    "    print(\"\")\n",
    "    print(\"\")\n",
    "    "
   ]
  },
  {
   "cell_type": "markdown",
   "metadata": {},
   "source": [
    "### *3.3.3 - Categorical Features*"
   ]
  },
  {
   "cell_type": "code",
   "execution_count": 10,
   "metadata": {
    "scrolled": true
   },
   "outputs": [
    {
     "name": "stdout",
     "output_type": "stream",
     "text": [
      "=============================\n",
      "Gender Feature\n",
      "=============================\n",
      "\n",
      "Absolute Frequency Table\n",
      "------------------------\n",
      "col_0   count\n",
      "Gender       \n",
      "Female     86\n",
      "Male      394\n",
      "\n",
      "Relative Frequency Table\n",
      "---------------------------\n",
      "col_0      count\n",
      "Gender          \n",
      "Female  0.179167\n",
      "Male    0.820833\n",
      "\n",
      "\n",
      "=============================\n",
      "Married Feature\n",
      "=============================\n",
      "\n",
      "Absolute Frequency Table\n",
      "------------------------\n",
      "col_0    count\n",
      "Married       \n",
      "No         169\n",
      "Yes        311\n",
      "\n",
      "Relative Frequency Table\n",
      "---------------------------\n",
      "col_0       count\n",
      "Married          \n",
      "No       0.352083\n",
      "Yes      0.647917\n",
      "\n",
      "\n",
      "=============================\n",
      "Dependents Feature\n",
      "=============================\n",
      "\n",
      "Absolute Frequency Table\n",
      "------------------------\n",
      "col_0       count\n",
      "Dependents       \n",
      "0             274\n",
      "1              80\n",
      "2              85\n",
      "3+             41\n",
      "\n",
      "Relative Frequency Table\n",
      "---------------------------\n",
      "col_0          count\n",
      "Dependents          \n",
      "0           0.570833\n",
      "1           0.166667\n",
      "2           0.177083\n",
      "3+          0.085417\n",
      "\n",
      "\n",
      "=============================\n",
      "Education Feature\n",
      "=============================\n",
      "\n",
      "Absolute Frequency Table\n",
      "------------------------\n",
      "col_0         count\n",
      "Education          \n",
      "Graduate        383\n",
      "Not Graduate     97\n",
      "\n",
      "Relative Frequency Table\n",
      "---------------------------\n",
      "col_0            count\n",
      "Education             \n",
      "Graduate      0.797917\n",
      "Not Graduate  0.202083\n",
      "\n",
      "\n",
      "=============================\n",
      "Self_Employed Feature\n",
      "=============================\n",
      "\n",
      "Absolute Frequency Table\n",
      "------------------------\n",
      "col_0          count\n",
      "Self_Employed       \n",
      "No               414\n",
      "Yes               66\n",
      "\n",
      "Relative Frequency Table\n",
      "---------------------------\n",
      "col_0           count\n",
      "Self_Employed        \n",
      "No             0.8625\n",
      "Yes            0.1375\n",
      "\n",
      "\n",
      "=============================\n",
      "Credit_History Feature\n",
      "=============================\n",
      "\n",
      "Absolute Frequency Table\n",
      "------------------------\n",
      "col_0           count\n",
      "Credit_History       \n",
      "0.0                70\n",
      "1.0               410\n",
      "\n",
      "Relative Frequency Table\n",
      "---------------------------\n",
      "col_0              count\n",
      "Credit_History          \n",
      "0.0             0.145833\n",
      "1.0             0.854167\n",
      "\n",
      "\n",
      "=============================\n",
      "Property_Area Feature\n",
      "=============================\n",
      "\n",
      "Absolute Frequency Table\n",
      "------------------------\n",
      "col_0          count\n",
      "Property_Area       \n",
      "Rural            139\n",
      "Semiurban        191\n",
      "Urban            150\n",
      "\n",
      "Relative Frequency Table\n",
      "---------------------------\n",
      "col_0             count\n",
      "Property_Area          \n",
      "Rural          0.289583\n",
      "Semiurban      0.397917\n",
      "Urban          0.312500\n",
      "\n",
      "\n"
     ]
    },
    {
     "data": {
      "text/plain": [
       "<Figure size 432x288 with 0 Axes>"
      ]
     },
     "metadata": {},
     "output_type": "display_data"
    },
    {
     "data": {
      "image/png": "[encoded data removed]",
      "text/plain": [
       "<Figure size 360x360 with 1 Axes>"
      ]
     },
     "metadata": {
      "needs_background": "light"
     },
     "output_type": "display_data"
    },
    {
     "data": {
      "text/plain": [
       "<Figure size 432x288 with 0 Axes>"
      ]
     },
     "metadata": {},
     "output_type": "display_data"
    },
    {
     "data": {
      "image/png": "[encoded data removed]",
      "text/plain": [
       "<Figure size 360x360 with 1 Axes>"
      ]
     },
     "metadata": {
      "needs_background": "light"
     },
     "output_type": "display_data"
    },
    {
     "data": {
      "text/plain": [
       "<Figure size 432x288 with 0 Axes>"
      ]
     },
     "metadata": {},
     "output_type": "display_data"
    },
    {
     "data": {
      "image/png": "[encoded data removed]",
      "text/plain": [
       "<Figure size 360x360 with 1 Axes>"
      ]
     },
     "metadata": {
      "needs_background": "light"
     },
     "output_type": "display_data"
    },
    {
     "data": {
      "text/plain": [
       "<Figure size 432x288 with 0 Axes>"
      ]
     },
     "metadata": {},
     "output_type": "display_data"
    },
    {
     "data": {
      "image/png": "[encoded data removed]",
      "text/plain": [
       "<Figure size 360x360 with 1 Axes>"
      ]
     },
     "metadata": {
      "needs_background": "light"
     },
     "output_type": "display_data"
    },
    {
     "data": {
      "text/plain": [
       "<Figure size 432x288 with 0 Axes>"
      ]
     },
     "metadata": {},
     "output_type": "display_data"
    },
    {
     "data": {
      "image/png": "[encoded data removed]",
      "text/plain": [
       "<Figure size 360x360 with 1 Axes>"
      ]
     },
     "metadata": {
      "needs_background": "light"
     },
     "output_type": "display_data"
    },
    {
     "data": {
      "text/plain": [
       "<Figure size 432x288 with 0 Axes>"
      ]
     },
     "metadata": {},
     "output_type": "display_data"
    },
    {
     "data": {
      "image/png": "[encoded data removed]",
      "text/plain": [
       "<Figure size 360x360 with 1 Axes>"
      ]
     },
     "metadata": {
      "needs_background": "light"
     },
     "output_type": "display_data"
    },
    {
     "data": {
      "text/plain": [
       "<Figure size 432x288 with 0 Axes>"
      ]
     },
     "metadata": {},
     "output_type": "display_data"
    },
    {
     "data": {
      "image/png": "[encoded data removed]",
      "text/plain": [
       "<Figure size 360x360 with 1 Axes>"
      ]
     },
     "metadata": {
      "needs_background": "light"
     },
     "output_type": "display_data"
    }
   ],
   "source": [
    "categorical_features = [\"Gender\", \"Married\", \"Dependents\", \"Education\", \"Self_Employed\", \"Credit_History\", \"Property_Area\"]\n",
    "for var in categorical_features:\n",
    "    print(\"=============================\")\n",
    "    print(var,\"Feature\")\n",
    "    print(\"=============================\")\n",
    "    print(\"\")\n",
    "    print(\"Absolute Frequency Table\")\n",
    "    print(\"------------------------\")\n",
    "    my_table = pd.crosstab(index=df_without_NA[var], columns=\"count\", margins= False)\n",
    "    print(my_table)\n",
    "    print(\"\")\n",
    "    print(\"Relative Frequency Table\")\n",
    "    print(\"---------------------------\")\n",
    "    my_table_prop = my_table/my_table.sum()\n",
    "    print(my_table_prop)\n",
    "    plt.figure()\n",
    "    sns.catplot(x=var, kind=\"count\", data=df_without_NA)\n",
    "    title = plt.gca()\n",
    "    title.set_title(var + \" Feature\")\n",
    "    print(\"\")\n",
    "    print(\"\")\n",
    "\n"
   ]
  },
  {
   "cell_type": "markdown",
   "metadata": {},
   "source": [
    "## Bivariate Analysis"
   ]
  },
  {
   "cell_type": "markdown",
   "metadata": {},
   "source": [
    "To be done"
   ]
  },
  {
   "cell_type": "code",
   "execution_count": null,
   "metadata": {},
   "outputs": [],
   "source": []
  }
 ],
 "metadata": {
  "kernelspec": {
   "display_name": "Python 3",
   "language": "python",
   "name": "python3"
  },
  "language_info": {
   "codemirror_mode": {
    "name": "ipython",
    "version": 3
   },
   "file_extension": ".py",
   "mimetype": "text/x-python",
   "name": "python",
   "nbconvert_exporter": "python",
   "pygments_lexer": "ipython3",
   "version": "3.7.1"
  }
 },
 "nbformat": 4,
 "nbformat_minor": 2
}
